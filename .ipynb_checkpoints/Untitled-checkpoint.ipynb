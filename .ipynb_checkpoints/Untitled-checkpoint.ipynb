{
 "cells": [
  {
   "cell_type": "code",
   "execution_count": null,
   "metadata": {},
   "outputs": [],
   "source": [
    "# load library"
   ]
  },
  {
   "cell_type": "code",
   "execution_count": 4,
   "metadata": {},
   "outputs": [],
   "source": [
    "import matplotlib.pyplot as plt\n",
    "import numpy as np\n",
    "import pandas as pd\n",
    "\n",
    "from sklearn.linear_model import LogisticRegression\n",
    "from sklearn.metrics import classification_report, confusion_matrix"
   ]
  },
  {
   "cell_type": "code",
   "execution_count": null,
   "metadata": {},
   "outputs": [],
   "source": [
    "# load data"
   ]
  },
  {
   "cell_type": "code",
   "execution_count": 5,
   "metadata": {},
   "outputs": [
    {
     "name": "stdout",
     "output_type": "stream",
     "text": [
      "        case_id  Stay\n",
      "0        318439  0-10\n",
      "1        318440  0-10\n",
      "2        318441  0-10\n",
      "3        318442  0-10\n",
      "4        318443  0-10\n",
      "...         ...   ...\n",
      "137052   455491  0-10\n",
      "137053   455492  0-10\n",
      "137054   455493  0-10\n",
      "137055   455494  0-10\n",
      "137056   455495  0-10\n",
      "\n",
      "[137057 rows x 2 columns]\n"
     ]
    }
   ],
   "source": [
    "df1 = pd.read_csv ('dataset/healthcare/sample_sub.csv')\n",
    "print (df1)"
   ]
  },
  {
   "cell_type": "code",
   "execution_count": 6,
   "metadata": {},
   "outputs": [
    {
     "name": "stdout",
     "output_type": "stream",
     "text": [
      "        case_id  Hospital_code Hospital_type_code  City_Code_Hospital  \\\n",
      "0        318439             21                  c                   3   \n",
      "1        318440             29                  a                   4   \n",
      "2        318441             26                  b                   2   \n",
      "3        318442              6                  a                   6   \n",
      "4        318443             28                  b                  11   \n",
      "...         ...            ...                ...                 ...   \n",
      "137052   455491             11                  b                   2   \n",
      "137053   455492             25                  e                   1   \n",
      "137054   455493             30                  c                   3   \n",
      "137055   455494              5                  a                   1   \n",
      "137056   455495              6                  a                   6   \n",
      "\n",
      "       Hospital_region_code  Available Extra Rooms in Hospital    Department  \\\n",
      "0                         Z                                  3    gynecology   \n",
      "1                         X                                  2    gynecology   \n",
      "2                         Y                                  3    gynecology   \n",
      "3                         X                                  3    gynecology   \n",
      "4                         X                                  2    gynecology   \n",
      "...                     ...                                ...           ...   \n",
      "137052                    Y                                  4    anesthesia   \n",
      "137053                    X                                  2  radiotherapy   \n",
      "137054                    Z                                  2    anesthesia   \n",
      "137055                    X                                  2    anesthesia   \n",
      "137056                    X                                  3    gynecology   \n",
      "\n",
      "       Ward_Type Ward_Facility_Code  Bed Grade  patientid  City_Code_Patient  \\\n",
      "0              S                  A        2.0      17006                2.0   \n",
      "1              S                  F        2.0      17006                2.0   \n",
      "2              Q                  D        4.0      17006                2.0   \n",
      "3              Q                  F        2.0      17006                2.0   \n",
      "4              R                  F        2.0      17006                2.0   \n",
      "...          ...                ...        ...        ...                ...   \n",
      "137052         Q                  D        3.0      41160                3.0   \n",
      "137053         R                  E        4.0      30985                7.0   \n",
      "137054         R                  A        4.0      81811               12.0   \n",
      "137055         R                  E        4.0      57021               10.0   \n",
      "137056         Q                  F        4.0     126729                3.0   \n",
      "\n",
      "       Type of Admission Severity of Illness  Visitors with Patient    Age  \\\n",
      "0              Emergency            Moderate                      2  71-80   \n",
      "1                 Trauma            Moderate                      4  71-80   \n",
      "2              Emergency            Moderate                      3  71-80   \n",
      "3                 Trauma            Moderate                      3  71-80   \n",
      "4                 Trauma            Moderate                      4  71-80   \n",
      "...                  ...                 ...                    ...    ...   \n",
      "137052         Emergency               Minor                      4  41-50   \n",
      "137053         Emergency            Moderate                      2   0-10   \n",
      "137054            Urgent               Minor                      2   0-10   \n",
      "137055            Trauma               Minor                      2  41-50   \n",
      "137056            Trauma             Extreme                      5  51-60   \n",
      "\n",
      "        Admission_Deposit  \n",
      "0                  3095.0  \n",
      "1                  4018.0  \n",
      "2                  4492.0  \n",
      "3                  4173.0  \n",
      "4                  4161.0  \n",
      "...                   ...  \n",
      "137052             6313.0  \n",
      "137053             3510.0  \n",
      "137054             7190.0  \n",
      "137055             5435.0  \n",
      "137056             4702.0  \n",
      "\n",
      "[137057 rows x 17 columns]\n"
     ]
    }
   ],
   "source": [
    "df2 = pd.read_csv ('dataset/healthcare/test_data.csv')\n",
    "print (df2)"
   ]
  },
  {
   "cell_type": "code",
   "execution_count": 7,
   "metadata": {},
   "outputs": [
    {
     "name": "stdout",
     "output_type": "stream",
     "text": [
      "                               Column  \\\n",
      "0                             case_id   \n",
      "1                       Hospital_code   \n",
      "2                  Hospital_type_code   \n",
      "3                  City_Code_Hospital   \n",
      "4                Hospital_region_code   \n",
      "5   Available Extra Rooms in Hospital   \n",
      "6                          Department   \n",
      "7                           Ward_Type   \n",
      "8                  Ward_Facility_Code   \n",
      "9                           Bed Grade   \n",
      "10                          patientid   \n",
      "11                  City_Code_Patient   \n",
      "12                  Type of Admission   \n",
      "13                Severity of Illness   \n",
      "14              Visitors with Patient   \n",
      "15                                Age   \n",
      "16                  Admission_Deposit   \n",
      "17                               Stay   \n",
      "\n",
      "                                          Description  \n",
      "0                      Case_ID registered in Hospital  \n",
      "1                        Unique code for the Hospital  \n",
      "2                Unique code for the type of Hospital  \n",
      "3                           City Code of the Hospital  \n",
      "4                         Region Code of the Hospital  \n",
      "5     Number of Extra rooms available in the Hospital  \n",
      "6                     Department overlooking the case  \n",
      "7                              Code for the Ward type  \n",
      "8                          Code for the Ward Facility  \n",
      "9                        Condition of Bed in the Ward  \n",
      "10                                  Unique Patient Id  \n",
      "11                          City Code for the patient  \n",
      "12          Admission Type registered by the Hospital  \n",
      "13  Severity of the illness recorded at the time o...  \n",
      "14                Number of Visitors with the patient  \n",
      "15                                 Age of the patient  \n",
      "16                      Deposit at the Admission Time  \n",
      "17                           Stay Days by the patient  \n"
     ]
    }
   ],
   "source": [
    "df3 = pd.read_csv ('dataset/healthcare/train_data_dictionary.csv')\n",
    "print (df3)"
   ]
  },
  {
   "cell_type": "code",
   "execution_count": 8,
   "metadata": {},
   "outputs": [
    {
     "name": "stdout",
     "output_type": "stream",
     "text": [
      "        case_id  Hospital_code Hospital_type_code  City_Code_Hospital  \\\n",
      "0             1              8                  c                   3   \n",
      "1             2              2                  c                   5   \n",
      "2             3             10                  e                   1   \n",
      "3             4             26                  b                   2   \n",
      "4             5             26                  b                   2   \n",
      "...         ...            ...                ...                 ...   \n",
      "318433   318434              6                  a                   6   \n",
      "318434   318435             24                  a                   1   \n",
      "318435   318436              7                  a                   4   \n",
      "318436   318437             11                  b                   2   \n",
      "318437   318438             19                  a                   7   \n",
      "\n",
      "       Hospital_region_code  Available Extra Rooms in Hospital    Department  \\\n",
      "0                         Z                                  3  radiotherapy   \n",
      "1                         Z                                  2  radiotherapy   \n",
      "2                         X                                  2    anesthesia   \n",
      "3                         Y                                  2  radiotherapy   \n",
      "4                         Y                                  2  radiotherapy   \n",
      "...                     ...                                ...           ...   \n",
      "318433                    X                                  3  radiotherapy   \n",
      "318434                    X                                  2    anesthesia   \n",
      "318435                    X                                  3    gynecology   \n",
      "318436                    Y                                  3    anesthesia   \n",
      "318437                    Y                                  5    gynecology   \n",
      "\n",
      "       Ward_Type Ward_Facility_Code  Bed Grade  patientid  City_Code_Patient  \\\n",
      "0              R                  F        2.0      31397                7.0   \n",
      "1              S                  F        2.0      31397                7.0   \n",
      "2              S                  E        2.0      31397                7.0   \n",
      "3              R                  D        2.0      31397                7.0   \n",
      "4              S                  D        2.0      31397                7.0   \n",
      "...          ...                ...        ...        ...                ...   \n",
      "318433         Q                  F        4.0      86499               23.0   \n",
      "318434         Q                  E        4.0        325                8.0   \n",
      "318435         R                  F        4.0     125235               10.0   \n",
      "318436         Q                  D        3.0      91081                8.0   \n",
      "318437         Q                  C        2.0      21641                8.0   \n",
      "\n",
      "       Type of Admission Severity of Illness  Visitors with Patient    Age  \\\n",
      "0              Emergency             Extreme                      2  51-60   \n",
      "1                 Trauma             Extreme                      2  51-60   \n",
      "2                 Trauma             Extreme                      2  51-60   \n",
      "3                 Trauma             Extreme                      2  51-60   \n",
      "4                 Trauma             Extreme                      2  51-60   \n",
      "...                  ...                 ...                    ...    ...   \n",
      "318433         Emergency            Moderate                      3  41-50   \n",
      "318434            Urgent            Moderate                      4  81-90   \n",
      "318435         Emergency               Minor                      3  71-80   \n",
      "318436            Trauma               Minor                      5  11-20   \n",
      "318437         Emergency               Minor                      2  11-20   \n",
      "\n",
      "        Admission_Deposit   Stay  \n",
      "0                  4911.0   0-10  \n",
      "1                  5954.0  41-50  \n",
      "2                  4745.0  31-40  \n",
      "3                  7272.0  41-50  \n",
      "4                  5558.0  41-50  \n",
      "...                   ...    ...  \n",
      "318433             4144.0  11-20  \n",
      "318434             6699.0  31-40  \n",
      "318435             4235.0  11-20  \n",
      "318436             3761.0  11-20  \n",
      "318437             4752.0   0-10  \n",
      "\n",
      "[318438 rows x 18 columns]\n"
     ]
    }
   ],
   "source": [
    "df4 = pd.read_csv ('dataset/healthcare/train_data.csv')\n",
    "print (df4)"
   ]
  },
  {
   "cell_type": "code",
   "execution_count": 10,
   "metadata": {},
   "outputs": [
    {
     "data": {
      "text/html": [
       "<div>\n",
       "<style scoped>\n",
       "    .dataframe tbody tr th:only-of-type {\n",
       "        vertical-align: middle;\n",
       "    }\n",
       "\n",
       "    .dataframe tbody tr th {\n",
       "        vertical-align: top;\n",
       "    }\n",
       "\n",
       "    .dataframe thead th {\n",
       "        text-align: right;\n",
       "    }\n",
       "</style>\n",
       "<table border=\"1\" class=\"dataframe\">\n",
       "  <thead>\n",
       "    <tr style=\"text-align: right;\">\n",
       "      <th></th>\n",
       "      <th>case_id</th>\n",
       "      <th>Stay</th>\n",
       "    </tr>\n",
       "  </thead>\n",
       "  <tbody>\n",
       "    <tr>\n",
       "      <th>0</th>\n",
       "      <td>318439</td>\n",
       "      <td>0-10</td>\n",
       "    </tr>\n",
       "    <tr>\n",
       "      <th>1</th>\n",
       "      <td>318440</td>\n",
       "      <td>0-10</td>\n",
       "    </tr>\n",
       "    <tr>\n",
       "      <th>2</th>\n",
       "      <td>318441</td>\n",
       "      <td>0-10</td>\n",
       "    </tr>\n",
       "    <tr>\n",
       "      <th>3</th>\n",
       "      <td>318442</td>\n",
       "      <td>0-10</td>\n",
       "    </tr>\n",
       "    <tr>\n",
       "      <th>4</th>\n",
       "      <td>318443</td>\n",
       "      <td>0-10</td>\n",
       "    </tr>\n",
       "  </tbody>\n",
       "</table>\n",
       "</div>"
      ],
      "text/plain": [
       "   case_id  Stay\n",
       "0   318439  0-10\n",
       "1   318440  0-10\n",
       "2   318441  0-10\n",
       "3   318442  0-10\n",
       "4   318443  0-10"
      ]
     },
     "execution_count": 10,
     "metadata": {},
     "output_type": "execute_result"
    }
   ],
   "source": [
    "df1.head()"
   ]
  },
  {
   "cell_type": "code",
   "execution_count": 9,
   "metadata": {},
   "outputs": [],
   "source": [
    "model = LogisticRegression(solver='liblinear')"
   ]
  },
  {
   "cell_type": "code",
   "execution_count": null,
   "metadata": {},
   "outputs": [],
   "source": []
  },
  {
   "cell_type": "code",
   "execution_count": null,
   "metadata": {},
   "outputs": [],
   "source": []
  },
  {
   "cell_type": "code",
   "execution_count": null,
   "metadata": {},
   "outputs": [],
   "source": []
  }
 ],
 "metadata": {
  "kernelspec": {
   "display_name": "Python 3",
   "language": "python",
   "name": "python3"
  },
  "language_info": {
   "codemirror_mode": {
    "name": "ipython",
    "version": 3
   },
   "file_extension": ".py",
   "mimetype": "text/x-python",
   "name": "python",
   "nbconvert_exporter": "python",
   "pygments_lexer": "ipython3",
   "version": "3.8.5"
  }
 },
 "nbformat": 4,
 "nbformat_minor": 4
}
